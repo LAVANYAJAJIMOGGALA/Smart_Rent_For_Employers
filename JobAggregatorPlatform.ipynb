{
  "nbformat": 4,
  "nbformat_minor": 0,
  "metadata": {
    "colab": {
      "provenance": [],
      "authorship_tag": "ABX9TyNZEfYDmG++3COPYGDiAj6v",
      "include_colab_link": true
    },
    "kernelspec": {
      "name": "python3",
      "display_name": "Python 3"
    },
    "language_info": {
      "name": "python"
    }
  },
  "cells": [
    {
      "cell_type": "markdown",
      "metadata": {
        "id": "view-in-github",
        "colab_type": "text"
      },
      "source": [
        "<a href=\"https://colab.research.google.com/github/LAVANYAJAJIMOGGALA/Smart_Rent_For_Employers/blob/main/JobAggregatorPlatform.ipynb\" target=\"_parent\"><img src=\"https://colab.research.google.com/assets/colab-badge.svg\" alt=\"Open In Colab\"/></a>"
      ]
    },
    {
      "cell_type": "code",
      "execution_count": 1,
      "metadata": {
        "id": "Hcd98HMrLkTm"
      },
      "outputs": [],
      "source": [
        "import requests\n",
        "from bs4 import BeautifulSoup"
      ]
    },
    {
      "cell_type": "markdown",
      "source": [
        "Job search or internship search\n",
        "\n",
        "1.web search-> internshala, indeed, linkedIN\n",
        "2.web search-> internshala->provide role/ location-> u have to check-> selection\n",
        "3.glassdoor\n",
        "4.monster"
      ],
      "metadata": {
        "id": "gLsgtaE2LqM0"
      }
    },
    {
      "cell_type": "code",
      "source": [
        "HEADERS = {\n",
        "    \"User-Agent\": \"Mozilla/5.0 (Windows NT 10.0; Win64; x64) AppleWebKit/537.36 (KHTML, like Gecko) Chrome/91.0.4472.124 Safari/537.36\"\n",
        "}"
      ],
      "metadata": {
        "id": "_3mCYh4vL4XE"
      },
      "execution_count": 2,
      "outputs": []
    },
    {
      "cell_type": "markdown",
      "source": [
        "1.which platform are u prefering? 2.what is the job role or title?\n",
        "\n",
        "what is the location?\n",
        "1.linkedIN 2.indeed 3.monstr 4.glass door 5.naukri"
      ],
      "metadata": {
        "id": "iLneF6PiL-ME"
      }
    },
    {
      "cell_type": "code",
      "source": [
        "def scrape_indeed(job_title, location=\"India\"):\n",
        "    job_title = \"+\".join(job_title.split())\n",
        "    location = \"+\".join(location.split())\n",
        "    url = f\"https://www.indeed.com/jobs?q={job_title}&l={location}\"\n",
        "    print(f\"\\n🔍 Searching on Indeed: {url}\")\n",
        "    return url\n"
      ],
      "metadata": {
        "id": "Ggjwo7aGMCAE"
      },
      "execution_count": 3,
      "outputs": []
    },
    {
      "cell_type": "code",
      "source": [
        "def scrape_linkedin(job_title, location=\"India\"):\n",
        "    job_title = \"-\".join(job_title.split())\n",
        "    location = \"-\".join(location.split())\n",
        "    url = f\"https://www.linkedin.com/jobs/search/?keywords={job_title}&location={location}\"\n",
        "    print(f\"\\n🔍 Searching on LinkedIn: {url}\")\n",
        "    return url"
      ],
      "metadata": {
        "id": "gNPUB1o4MFxU"
      },
      "execution_count": 4,
      "outputs": []
    },
    {
      "cell_type": "code",
      "source": [
        "def scrape_glassdoor(job_title, location=\"India\"):\n",
        "    job_title = \"-\".join(job_title.split())\n",
        "    location = \"-\".join(location.split())\n",
        "    url = f\"https://www.glassdoor.com/Job/{location}-{job_title}-jobs-SRCH_IL.0,6_IC2671300_KO7,15.htm\"\n",
        "    print(f\"\\n🔍 Searching on Glassdoor: {url}\")\n",
        "    return url"
      ],
      "metadata": {
        "id": "CLbdIgv2MJcU"
      },
      "execution_count": 5,
      "outputs": []
    },
    {
      "cell_type": "code",
      "source": [
        "def scrape_monster(job_title, location=\"India\"):\n",
        "    job_title = \"-\".join(job_title.split())\n",
        "    location = \"-\".join(location.split())\n",
        "    url = f\"https://www.monster.com/jobs/search/?q={job_title}&where={location}\"\n",
        "    print(f\"\\n🔍 Searching on Monster: {url}\")\n",
        "    return url"
      ],
      "metadata": {
        "id": "TJzq2o14MPDk"
      },
      "execution_count": 6,
      "outputs": []
    },
    {
      "cell_type": "code",
      "source": [
        "def scrape_naukri(job_title, location=\"India\"):\n",
        "    job_title = \"+\".join(job_title.split())\n",
        "    location = \"+\".join(location.split())\n",
        "    url = f\"https://www.naukri.com/{job_title}-jobs-in-{location}\"\n",
        "    print(f\"\\n🔍 Searching on Naukri: {url}\")\n",
        "    return url"
      ],
      "metadata": {
        "id": "YujpS_v4Mn60"
      },
      "execution_count": 7,
      "outputs": []
    },
    {
      "cell_type": "code",
      "source": [
        "def get_jobs_from_all_sites(job_title, location):\n",
        "    search_urls = {\n",
        "        \"Indeed\": scrape_indeed(job_title, location),\n",
        "        \"LinkedIn\": scrape_linkedin(job_title, location),\n",
        "        \"Glassdoor\": scrape_glassdoor(job_title, location),\n",
        "        \"Monster\": scrape_monster(job_title, location),\n",
        "        \"Naukri\": scrape_naukri(job_title, location)\n",
        "    }\n",
        "    return search_urls\n",
        "\n",
        "\n",
        "if __name__ == \"__main__\":\n",
        "    job_title = input(\"Enter the job title: \")\n",
        "    location = input(\"Enter the job location (default: India): \") or \"India\"\n",
        "\n",
        "    job_search_results = get_jobs_from_all_sites(job_title, location)"
      ],
      "metadata": {
        "colab": {
          "base_uri": "https://localhost:8080/"
        },
        "id": "PDeZ2KoVM7zE",
        "outputId": "f265b3a6-a674-406d-b4ec-43b9c96cca26"
      },
      "execution_count": 8,
      "outputs": [
        {
          "output_type": "stream",
          "name": "stdout",
          "text": [
            "Enter the job title: india\n",
            "Enter the job location (default: India): hyderabad\n",
            "\n",
            "🔍 Searching on Indeed: https://www.indeed.com/jobs?q=india&l=hyderabad\n",
            "\n",
            "🔍 Searching on LinkedIn: https://www.linkedin.com/jobs/search/?keywords=india&location=hyderabad\n",
            "\n",
            "🔍 Searching on Glassdoor: https://www.glassdoor.com/Job/hyderabad-india-jobs-SRCH_IL.0,6_IC2671300_KO7,15.htm\n",
            "\n",
            "🔍 Searching on Monster: https://www.monster.com/jobs/search/?q=india&where=hyderabad\n",
            "\n",
            "🔍 Searching on Naukri: https://www.naukri.com/india-jobs-in-hyderabad\n"
          ]
        }
      ]
    }
  ]
}